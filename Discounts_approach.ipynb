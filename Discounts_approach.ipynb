{
 "cells": [
  {
   "cell_type": "code",
   "execution_count": 1,
   "id": "cc91b431",
   "metadata": {},
   "outputs": [],
   "source": [
    "import pandas as pd"
   ]
  },
  {
   "cell_type": "code",
   "execution_count": 2,
   "id": "703eedcd",
   "metadata": {},
   "outputs": [],
   "source": [
    "# products_with_categories.csv\n",
    "path = \"https://raw.githubusercontent.com/Tehnik762/Eniac_discounts/main/products_with_categories.csv\"\n",
    "products_df = pd.read_csv(path)\n",
    "products_df.drop(columns=[\"Unnamed: 0\"])\n",
    "\n",
    "# orders_qu.csv\n",
    "path = \"https://raw.githubusercontent.com/Tehnik762/Eniac_discounts/main/orders_qu.csv\"\n",
    "orders_df = pd.read_csv(path)\n",
    "\n",
    "# orderlines_df.csv\n",
    "path = \"https://raw.githubusercontent.com/Tehnik762/Eniac_discounts/main/orderlines_qu.csv\"\n",
    "orderlines_df = pd.read_csv(path)\n",
    "\n",
    "# brands_cl.csv\n",
    "path = \"https://raw.githubusercontent.com/Tehnik762/Eniac_discounts/main/brands.csv\"\n",
    "brands = pd.read_csv(path)"
   ]
  },
  {
   "cell_type": "markdown",
   "id": "772e5328",
   "metadata": {},
   "source": [
    "## Preparing Discounts_DF"
   ]
  },
  {
   "cell_type": "code",
   "execution_count": 21,
   "id": "1a522f56",
   "metadata": {},
   "outputs": [],
   "source": [
    "discounts_df = orderlines_df.merge(products_df, how=\"left\", on=\"sku\")[[\"sku\", \"unit_price\", \"price\", \"date\", \"id\", \"id_order\" ]]"
   ]
  },
  {
   "cell_type": "code",
   "execution_count": 23,
   "id": "a7f7cc9d",
   "metadata": {},
   "outputs": [],
   "source": [
    "discounts_df[\"discounts\"] = discounts_df[\"price\"] - discounts_df[\"unit_price\"]"
   ]
  },
  {
   "cell_type": "code",
   "execution_count": 15,
   "id": "92d9b0b1",
   "metadata": {},
   "outputs": [
    {
     "data": {
      "text/plain": [
       "count    82156.000000\n",
       "mean        24.928848\n",
       "std         45.363207\n",
       "min       -785.050000\n",
       "25%          5.000000\n",
       "50%         14.720000\n",
       "75%         30.000000\n",
       "max       1320.000000\n",
       "Name: discounts, dtype: float64"
      ]
     },
     "execution_count": 15,
     "metadata": {},
     "output_type": "execute_result"
    }
   ],
   "source": [
    "discounts_df[\"discounts\"].describe()"
   ]
  },
  {
   "cell_type": "markdown",
   "id": "d031f682",
   "metadata": {},
   "source": [
    "### Removing the outliers"
   ]
  },
  {
   "cell_type": "code",
   "execution_count": 28,
   "id": "1dad7ecf",
   "metadata": {},
   "outputs": [
    {
     "data": {
      "text/plain": [
       "(82946, 7)"
      ]
     },
     "execution_count": 28,
     "metadata": {},
     "output_type": "execute_result"
    }
   ],
   "source": [
    "q1 = discounts_df[\"discounts\"].quantile(0.25)\n",
    "q3 = discounts_df[\"discounts\"].quantile(0.75)\n",
    "iqr = q3-q1\n",
    "discounts_df.shape"
   ]
  },
  {
   "cell_type": "code",
   "execution_count": 32,
   "id": "641ff340",
   "metadata": {},
   "outputs": [
    {
     "data": {
      "text/html": [
       "<div>\n",
       "<style scoped>\n",
       "    .dataframe tbody tr th:only-of-type {\n",
       "        vertical-align: middle;\n",
       "    }\n",
       "\n",
       "    .dataframe tbody tr th {\n",
       "        vertical-align: top;\n",
       "    }\n",
       "\n",
       "    .dataframe thead th {\n",
       "        text-align: right;\n",
       "    }\n",
       "</style>\n",
       "<table border=\"1\" class=\"dataframe\">\n",
       "  <thead>\n",
       "    <tr style=\"text-align: right;\">\n",
       "      <th></th>\n",
       "      <th>sku</th>\n",
       "      <th>unit_price</th>\n",
       "      <th>price</th>\n",
       "      <th>date</th>\n",
       "      <th>id</th>\n",
       "      <th>id_order</th>\n",
       "      <th>discounts</th>\n",
       "    </tr>\n",
       "  </thead>\n",
       "  <tbody>\n",
       "    <tr>\n",
       "      <th>0</th>\n",
       "      <td>OWC0100</td>\n",
       "      <td>47.49</td>\n",
       "      <td>60.99</td>\n",
       "      <td>2017-01-01 01:46:16</td>\n",
       "      <td>1119116</td>\n",
       "      <td>299545</td>\n",
       "      <td>13.50</td>\n",
       "    </tr>\n",
       "    <tr>\n",
       "      <th>1</th>\n",
       "      <td>IOT0014</td>\n",
       "      <td>18.99</td>\n",
       "      <td>22.95</td>\n",
       "      <td>2017-01-01 01:50:34</td>\n",
       "      <td>1119119</td>\n",
       "      <td>299546</td>\n",
       "      <td>3.96</td>\n",
       "    </tr>\n",
       "    <tr>\n",
       "      <th>2</th>\n",
       "      <td>APP0700</td>\n",
       "      <td>72.19</td>\n",
       "      <td>89.00</td>\n",
       "      <td>2017-01-01 01:54:11</td>\n",
       "      <td>1119120</td>\n",
       "      <td>295347</td>\n",
       "      <td>16.81</td>\n",
       "    </tr>\n",
       "    <tr>\n",
       "      <th>3</th>\n",
       "      <td>BEA0065</td>\n",
       "      <td>256.49</td>\n",
       "      <td>299.95</td>\n",
       "      <td>2017-01-01 02:18:45</td>\n",
       "      <td>1119133</td>\n",
       "      <td>299555</td>\n",
       "      <td>43.46</td>\n",
       "    </tr>\n",
       "    <tr>\n",
       "      <th>4</th>\n",
       "      <td>CRU0039-A</td>\n",
       "      <td>60.90</td>\n",
       "      <td>76.99</td>\n",
       "      <td>2017-01-01 02:20:14</td>\n",
       "      <td>1119134</td>\n",
       "      <td>299556</td>\n",
       "      <td>16.09</td>\n",
       "    </tr>\n",
       "    <tr>\n",
       "      <th>...</th>\n",
       "      <td>...</td>\n",
       "      <td>...</td>\n",
       "      <td>...</td>\n",
       "      <td>...</td>\n",
       "      <td>...</td>\n",
       "      <td>...</td>\n",
       "      <td>...</td>\n",
       "    </tr>\n",
       "    <tr>\n",
       "      <th>82940</th>\n",
       "      <td>OWC0035-2</td>\n",
       "      <td>71.89</td>\n",
       "      <td>87.98</td>\n",
       "      <td>2018-03-14 13:52:18</td>\n",
       "      <td>1650186</td>\n",
       "      <td>525853</td>\n",
       "      <td>16.09</td>\n",
       "    </tr>\n",
       "    <tr>\n",
       "      <th>82941</th>\n",
       "      <td>APP1922</td>\n",
       "      <td>161.00</td>\n",
       "      <td>179.00</td>\n",
       "      <td>2018-03-14 13:55:15</td>\n",
       "      <td>1650193</td>\n",
       "      <td>527394</td>\n",
       "      <td>18.00</td>\n",
       "    </tr>\n",
       "    <tr>\n",
       "      <th>82943</th>\n",
       "      <td>LAC0227</td>\n",
       "      <td>249.99</td>\n",
       "      <td>299.99</td>\n",
       "      <td>2018-03-14 13:56:02</td>\n",
       "      <td>1650196</td>\n",
       "      <td>527384</td>\n",
       "      <td>50.00</td>\n",
       "    </tr>\n",
       "    <tr>\n",
       "      <th>82944</th>\n",
       "      <td>JBL0122</td>\n",
       "      <td>42.99</td>\n",
       "      <td>49.95</td>\n",
       "      <td>2018-03-14 13:56:38</td>\n",
       "      <td>1650198</td>\n",
       "      <td>527397</td>\n",
       "      <td>6.96</td>\n",
       "    </tr>\n",
       "    <tr>\n",
       "      <th>82945</th>\n",
       "      <td>APP0927</td>\n",
       "      <td>13.99</td>\n",
       "      <td>35.00</td>\n",
       "      <td>2018-03-14 13:58:36</td>\n",
       "      <td>1650203</td>\n",
       "      <td>527401</td>\n",
       "      <td>21.01</td>\n",
       "    </tr>\n",
       "  </tbody>\n",
       "</table>\n",
       "<p>74535 rows × 7 columns</p>\n",
       "</div>"
      ],
      "text/plain": [
       "             sku  unit_price   price                 date       id  id_order  \\\n",
       "0        OWC0100       47.49   60.99  2017-01-01 01:46:16  1119116    299545   \n",
       "1        IOT0014       18.99   22.95  2017-01-01 01:50:34  1119119    299546   \n",
       "2        APP0700       72.19   89.00  2017-01-01 01:54:11  1119120    295347   \n",
       "3        BEA0065      256.49  299.95  2017-01-01 02:18:45  1119133    299555   \n",
       "4      CRU0039-A       60.90   76.99  2017-01-01 02:20:14  1119134    299556   \n",
       "...          ...         ...     ...                  ...      ...       ...   \n",
       "82940  OWC0035-2       71.89   87.98  2018-03-14 13:52:18  1650186    525853   \n",
       "82941    APP1922      161.00  179.00  2018-03-14 13:55:15  1650193    527394   \n",
       "82943    LAC0227      249.99  299.99  2018-03-14 13:56:02  1650196    527384   \n",
       "82944    JBL0122       42.99   49.95  2018-03-14 13:56:38  1650198    527397   \n",
       "82945    APP0927       13.99   35.00  2018-03-14 13:58:36  1650203    527401   \n",
       "\n",
       "       discounts  \n",
       "0          13.50  \n",
       "1           3.96  \n",
       "2          16.81  \n",
       "3          43.46  \n",
       "4          16.09  \n",
       "...          ...  \n",
       "82940      16.09  \n",
       "82941      18.00  \n",
       "82943      50.00  \n",
       "82944       6.96  \n",
       "82945      21.01  \n",
       "\n",
       "[74535 rows x 7 columns]"
      ]
     },
     "execution_count": 32,
     "metadata": {},
     "output_type": "execute_result"
    }
   ],
   "source": [
    "discounts_df = discounts_df.loc[(discounts_df[\"discounts\"] > (q1 - 1.5*iqr)) & (discounts_df[\"discounts\"] < (q3 + 1.5*iqr))]\n",
    "discounts_df"
   ]
  },
  {
   "cell_type": "code",
   "execution_count": 34,
   "id": "1a0b4ff1",
   "metadata": {},
   "outputs": [],
   "source": [
    "orders_df = orders_df.loc[orders_df.order_id.isin(discounts_df['id_order'])]"
   ]
  },
  {
   "cell_type": "code",
   "execution_count": 38,
   "id": "0faf98d5",
   "metadata": {},
   "outputs": [],
   "source": [
    "orderlines_df = orderlines_df.loc[orderlines_df.id_order.isin(discounts_df['id_order'])]"
   ]
  },
  {
   "cell_type": "markdown",
   "id": "e808152e",
   "metadata": {},
   "source": [
    "Now we are ready to work with discounts!"
   ]
  },
  {
   "cell_type": "code",
   "execution_count": null,
   "id": "47c7a0ce",
   "metadata": {},
   "outputs": [],
   "source": []
  }
 ],
 "metadata": {
  "kernelspec": {
   "display_name": "Python 3 (ipykernel)",
   "language": "python",
   "name": "python3"
  },
  "language_info": {
   "codemirror_mode": {
    "name": "ipython",
    "version": 3
   },
   "file_extension": ".py",
   "mimetype": "text/x-python",
   "name": "python",
   "nbconvert_exporter": "python",
   "pygments_lexer": "ipython3",
   "version": "3.11.5"
  }
 },
 "nbformat": 4,
 "nbformat_minor": 5
}
